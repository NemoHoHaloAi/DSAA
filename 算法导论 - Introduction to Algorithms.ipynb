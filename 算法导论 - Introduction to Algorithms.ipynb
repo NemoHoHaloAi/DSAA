{
 "cells": [
  {
   "cell_type": "markdown",
   "metadata": {},
   "source": [
    "# 算法导论 - Introduction to Algorithms\n",
    "\n",
    "阅读记录以及课后练习题和思考题；"
   ]
  },
  {
   "cell_type": "markdown",
   "metadata": {},
   "source": [
    "## 第一章\n",
    "\n",
    "### 1.1练习\n",
    "- 1.1-1 给出现实生活中需要排序或者计算凸壳的例子；\n",
    "- 1.1-2 除速度外，真实环境中还可能使用哪些其他有关效率的度量；\n",
    "- 1.1-3 选择一种已知的数据结构，并讨论其优势和局限；\n",
    "- 1.1-4 最短路径与旅行商问题有哪些相同和不同；\n",
    "- 1.1-5 提供一个现实问题，其中只有最佳解才行，再提供一个现实问题，其中近似最佳解也足够好；"
   ]
  },
  {
   "cell_type": "markdown",
   "metadata": {},
   "source": [
    "The end."
   ]
  }
 ],
 "metadata": {
  "kernelspec": {
   "display_name": "Python 3",
   "language": "python",
   "name": "python3"
  },
  "language_info": {
   "codemirror_mode": {
    "name": "ipython",
    "version": 3
   },
   "file_extension": ".py",
   "mimetype": "text/x-python",
   "name": "python",
   "nbconvert_exporter": "python",
   "pygments_lexer": "ipython3",
   "version": "3.7.7"
  }
 },
 "nbformat": 4,
 "nbformat_minor": 4
}
